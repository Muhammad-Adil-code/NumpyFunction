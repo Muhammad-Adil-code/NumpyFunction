{
 "cells": [
  {
   "cell_type": "markdown",
   "id": "f34ec5fc-66a8-472d-8f75-fcffa3340d68",
   "metadata": {},
   "source": [
    "# **📦Importing libraries**"
   ]
  },
  {
   "cell_type": "code",
   "execution_count": 73,
   "id": "2631892a-69eb-4817-a94f-bd7f901fd50a",
   "metadata": {},
   "outputs": [],
   "source": [
    "import pandas as pd"
   ]
  },
  {
   "cell_type": "code",
   "execution_count": 20,
   "id": "8ecb3390-1cf4-40ac-8c56-9354f3f86d81",
   "metadata": {},
   "outputs": [],
   "source": [
    "import numpy as np"
   ]
  },
  {
   "cell_type": "markdown",
   "id": "eb8208e1-9970-4c6d-b7c9-54d80fac7686",
   "metadata": {},
   "source": [
    "## **Loading the data**"
   ]
  },
  {
   "cell_type": "code",
   "execution_count": 22,
   "id": "17218d75-ca39-4459-8307-fa96bb87e28d",
   "metadata": {
    "scrolled": true
   },
   "outputs": [
    {
     "data": {
      "text/html": [
       "<div>\n",
       "<style scoped>\n",
       "    .dataframe tbody tr th:only-of-type {\n",
       "        vertical-align: middle;\n",
       "    }\n",
       "\n",
       "    .dataframe tbody tr th {\n",
       "        vertical-align: top;\n",
       "    }\n",
       "\n",
       "    .dataframe thead th {\n",
       "        text-align: right;\n",
       "    }\n",
       "</style>\n",
       "<table border=\"1\" class=\"dataframe\">\n",
       "  <thead>\n",
       "    <tr style=\"text-align: right;\">\n",
       "      <th></th>\n",
       "      <th>Movie_Title</th>\n",
       "      <th>Year</th>\n",
       "      <th>Director</th>\n",
       "      <th>Actors</th>\n",
       "      <th>Rating</th>\n",
       "      <th>Runtime(Mins)</th>\n",
       "      <th>Censor</th>\n",
       "      <th>Total_Gross</th>\n",
       "      <th>main_genre</th>\n",
       "      <th>side_genre</th>\n",
       "    </tr>\n",
       "  </thead>\n",
       "  <tbody>\n",
       "    <tr>\n",
       "      <th>0</th>\n",
       "      <td>Kantara</td>\n",
       "      <td>2022</td>\n",
       "      <td>Rishab Shetty</td>\n",
       "      <td>Rishab Shetty, Sapthami Gowda, Kishore Kumar G...</td>\n",
       "      <td>9.3</td>\n",
       "      <td>148</td>\n",
       "      <td>UA</td>\n",
       "      <td>Gross Unkown</td>\n",
       "      <td>Action</td>\n",
       "      <td>Adventure,  Drama</td>\n",
       "    </tr>\n",
       "    <tr>\n",
       "      <th>1</th>\n",
       "      <td>The Dark Knight</td>\n",
       "      <td>2008</td>\n",
       "      <td>Christopher Nolan</td>\n",
       "      <td>Christian Bale, Heath Ledger, Aaron Eckhart, M...</td>\n",
       "      <td>9.0</td>\n",
       "      <td>152</td>\n",
       "      <td>UA</td>\n",
       "      <td>$534.86M</td>\n",
       "      <td>Action</td>\n",
       "      <td>Crime,  Drama</td>\n",
       "    </tr>\n",
       "    <tr>\n",
       "      <th>2</th>\n",
       "      <td>The Lord of the Rings: The Return of the King</td>\n",
       "      <td>2003</td>\n",
       "      <td>Peter Jackson</td>\n",
       "      <td>Elijah Wood, Viggo Mortensen, Ian McKellen, Or...</td>\n",
       "      <td>9.0</td>\n",
       "      <td>201</td>\n",
       "      <td>U</td>\n",
       "      <td>$377.85M</td>\n",
       "      <td>Action</td>\n",
       "      <td>Adventure,  Drama</td>\n",
       "    </tr>\n",
       "    <tr>\n",
       "      <th>3</th>\n",
       "      <td>Inception</td>\n",
       "      <td>2010</td>\n",
       "      <td>Christopher Nolan</td>\n",
       "      <td>Leonardo DiCaprio, Joseph Gordon-Levitt, Ellio...</td>\n",
       "      <td>8.8</td>\n",
       "      <td>148</td>\n",
       "      <td>UA</td>\n",
       "      <td>$292.58M</td>\n",
       "      <td>Action</td>\n",
       "      <td>Adventure,  Sci-Fi</td>\n",
       "    </tr>\n",
       "    <tr>\n",
       "      <th>4</th>\n",
       "      <td>The Lord of the Rings: The Two Towers</td>\n",
       "      <td>2002</td>\n",
       "      <td>Peter Jackson</td>\n",
       "      <td>Elijah Wood, Ian McKellen, Viggo Mortensen, Or...</td>\n",
       "      <td>8.8</td>\n",
       "      <td>179</td>\n",
       "      <td>UA</td>\n",
       "      <td>$342.55M</td>\n",
       "      <td>Action</td>\n",
       "      <td>Adventure,  Drama</td>\n",
       "    </tr>\n",
       "  </tbody>\n",
       "</table>\n",
       "</div>"
      ],
      "text/plain": [
       "                                     Movie_Title  Year           Director  \\\n",
       "0                                        Kantara  2022      Rishab Shetty   \n",
       "1                                The Dark Knight  2008  Christopher Nolan   \n",
       "2  The Lord of the Rings: The Return of the King  2003      Peter Jackson   \n",
       "3                                      Inception  2010  Christopher Nolan   \n",
       "4          The Lord of the Rings: The Two Towers  2002      Peter Jackson   \n",
       "\n",
       "                                              Actors  Rating  Runtime(Mins)  \\\n",
       "0  Rishab Shetty, Sapthami Gowda, Kishore Kumar G...     9.3            148   \n",
       "1  Christian Bale, Heath Ledger, Aaron Eckhart, M...     9.0            152   \n",
       "2  Elijah Wood, Viggo Mortensen, Ian McKellen, Or...     9.0            201   \n",
       "3  Leonardo DiCaprio, Joseph Gordon-Levitt, Ellio...     8.8            148   \n",
       "4  Elijah Wood, Ian McKellen, Viggo Mortensen, Or...     8.8            179   \n",
       "\n",
       "  Censor   Total_Gross main_genre           side_genre  \n",
       "0     UA  Gross Unkown     Action    Adventure,  Drama  \n",
       "1     UA      $534.86M     Action        Crime,  Drama  \n",
       "2      U      $377.85M     Action    Adventure,  Drama  \n",
       "3     UA      $292.58M     Action   Adventure,  Sci-Fi  \n",
       "4     UA      $342.55M     Action    Adventure,  Drama  "
      ]
     },
     "execution_count": 22,
     "metadata": {},
     "output_type": "execute_result"
    }
   ],
   "source": [
    "data = pd.read_csv('./IMDb_All_Genres_etf_clean1.csv')\n",
    "data.head()"
   ]
  },
  {
   "cell_type": "markdown",
   "id": "d0a4a248-7c1e-4b4d-8666-056a3766c740",
   "metadata": {},
   "source": [
    "### **_Selecting the rating column and converting into array_**"
   ]
  },
  {
   "cell_type": "code",
   "execution_count": 12,
   "id": "63eb5d6e-25c0-4e87-8e40-6103ab8c8201",
   "metadata": {},
   "outputs": [],
   "source": [
    "ratings = data['Rating'].values  # Convert to NumPy array\n"
   ]
  },
  {
   "cell_type": "markdown",
   "id": "56254e23-2b6f-4ce8-991b-6786231d2ca0",
   "metadata": {},
   "source": [
    "### **Appling _Shape, size, ndim, dtype_ on rating array**"
   ]
  },
  {
   "cell_type": "code",
   "execution_count": 79,
   "id": "b5987d02-d82e-4f7d-90d4-af02d01d80e2",
   "metadata": {},
   "outputs": [
    {
     "name": "stdout",
     "output_type": "stream",
     "text": [
      "Shape: (5,)\n",
      "Size: 5\n",
      "Dimensions (ndim): 1\n",
      "Data type (dtype): float64\n"
     ]
    }
   ],
   "source": [
    "print(\"Shape:\", ratings.shape)\n",
    "print(\"Size:\", ratings.size)\n",
    "print(\"Dimensions (ndim):\", ratings.ndim)\n",
    "print(\"Data type (dtype):\", ratings.dtype)\n",
    "\n"
   ]
  },
  {
   "cell_type": "markdown",
   "id": "18bbacf8-4dfd-4d18-9d99-121877e9b7af",
   "metadata": {},
   "source": [
    "### **Appling _max, min, argmax, argmin_ on rating array**"
   ]
  },
  {
   "cell_type": "code",
   "execution_count": 26,
   "id": "aa8d87c8-3870-41bc-aa49-e520e6994dbb",
   "metadata": {},
   "outputs": [
    {
     "name": "stdout",
     "output_type": "stream",
     "text": [
      "Max Rating: 9.3\n",
      "Min Rating: 1.0\n",
      "Index of Max Rating (argmax): 0\n",
      "Index of Min Rating (argmin): 1928\n"
     ]
    }
   ],
   "source": [
    "print(\"Max Rating:\", np.max(ratings))\n",
    "print(\"Min Rating:\", np.min(ratings))\n",
    "print(\"Index of Max Rating (argmax):\", np.argmax(ratings))\n",
    "print(\"Index of Min Rating (argmin):\", np.argmin(ratings))"
   ]
  },
  {
   "cell_type": "markdown",
   "id": "58c852bb-43d8-4fa3-a213-07556dff6204",
   "metadata": {},
   "source": [
    "### **Applying _reshape_ on array** "
   ]
  },
  {
   "cell_type": "code",
   "execution_count": 86,
   "id": "8c66b94b-38b5-4663-95a8-1cd285a22603",
   "metadata": {},
   "outputs": [
    {
     "name": "stdout",
     "output_type": "stream",
     "text": [
      "[[7.8]\n",
      " [8.1]\n",
      " [6.3]\n",
      " [9. ]\n",
      " [5.6]]\n"
     ]
    }
   ],
   "source": [
    "ratings = np.array([7.8, 8.1, 6.3, 9.0, 5.6])  # 1D array\n",
    "\n",
    "reshaped = ratings.reshape(-1, 1)  # Reshape to 2D column vector\n",
    "\n",
    "print(reshaped)"
   ]
  },
  {
   "cell_type": "markdown",
   "id": "289c14f0-159f-42c8-a097-406c4e168a8b",
   "metadata": {},
   "source": [
    "## **Checking dimension of complete dataset using _ndim_**"
   ]
  },
  {
   "cell_type": "code",
   "execution_count": 30,
   "id": "de49582f-d5b1-437c-a7bc-eaa5378392d7",
   "metadata": {},
   "outputs": [
    {
     "name": "stdout",
     "output_type": "stream",
     "text": [
      "Dimensions of the dataset: 2\n"
     ]
    }
   ],
   "source": [
    "print(\"Dimensions of the dataset:\", data.ndim)"
   ]
  },
  {
   "cell_type": "markdown",
   "id": "9bd1a709-ea62-431f-bbf7-ec4a96adfd43",
   "metadata": {},
   "source": [
    "## **Checking datatype of all features using _dtypes_**"
   ]
  },
  {
   "cell_type": "code",
   "execution_count": 92,
   "id": "d4b6a57e-37ca-4eed-a4cd-70edccbe32a1",
   "metadata": {},
   "outputs": [
    {
     "name": "stdout",
     "output_type": "stream",
     "text": [
      "datatype of all data: Movie_Title       object\n",
      "Year               int64\n",
      "Director          object\n",
      "Actors            object\n",
      "Rating           float64\n",
      "Runtime(Mins)      int64\n",
      "Censor            object\n",
      "Total_Gross       object\n",
      "main_genre        object\n",
      "side_genre        object\n",
      "dtype: object\n"
     ]
    }
   ],
   "source": [
    "print(\"datatype of all data:\", data.dtypes)\n"
   ]
  },
  {
   "cell_type": "markdown",
   "id": "27306f68-b0d9-47a2-9fd4-e84cec31deb0",
   "metadata": {},
   "source": [
    "# **Selecting numeric data**"
   ]
  },
  {
   "cell_type": "code",
   "execution_count": 96,
   "id": "e5a21c5e-7c66-4038-9e23-d65dc3d35a5e",
   "metadata": {},
   "outputs": [
    {
     "name": "stdout",
     "output_type": "stream",
     "text": [
      "   Year  Rating  Runtime(Mins)\n",
      "0  2022     9.3            148\n",
      "1  2008     9.0            152\n",
      "2  2003     9.0            201\n",
      "3  2010     8.8            148\n",
      "4  2002     8.8            179\n"
     ]
    }
   ],
   "source": [
    "numeric_data = data.select_dtypes(include=np.number)\n",
    "print(numeric_data.head())"
   ]
  },
  {
   "cell_type": "markdown",
   "id": "1aa99aad-3060-40f3-b719-bd2a7eb8ea34",
   "metadata": {},
   "source": [
    "##  **_📈 Copying Arrays using .copy()_**"
   ]
  },
  {
   "cell_type": "code",
   "execution_count": 106,
   "id": "d2651ca9-3476-450f-a32a-2358d8b9c0d9",
   "metadata": {},
   "outputs": [
    {
     "name": "stdout",
     "output_type": "stream",
     "text": [
      "Copied Ratings:\n",
      " 0       9.3\n",
      "1       9.0\n",
      "2       9.0\n",
      "3       8.8\n",
      "4       8.8\n",
      "       ... \n",
      "5557    1.9\n",
      "5558    1.9\n",
      "5559    1.9\n",
      "5560    1.5\n",
      "5561    1.0\n",
      "Name: Rating, Length: 5562, dtype: float64\n"
     ]
    }
   ],
   "source": [
    "ratings_copy = numeric_data[\"Rating\"].copy()\n",
    "print(\"Copied Ratings:\\n\", ratings_copy)"
   ]
  },
  {
   "cell_type": "markdown",
   "id": "7a707813-7180-4a6a-b42e-3c5714e0963f",
   "metadata": {},
   "source": [
    "### **➕Appending and Inserting using .append() & .insert()**"
   ]
  },
  {
   "cell_type": "code",
   "execution_count": 111,
   "id": "52dc2134-fe29-4f6b-908e-dcd62c9bf6b5",
   "metadata": {},
   "outputs": [
    {
     "name": "stdout",
     "output_type": "stream",
     "text": [
      "After Append:\n",
      " [9.3 9.  9.  ... 1.5 1.  9.5]\n",
      "After Insert at index 0:\n",
      " [8.  9.3 9.  9.  8.8]\n"
     ]
    }
   ],
   "source": [
    "ratings_appended = np.append(ratings, 9.5)\n",
    "print(\"After Append:\\n\", ratings_appended)\n",
    "\n",
    "ratings_inserted = np.insert(ratings, 0, 8.0)\n",
    "print(\"After Insert at index 0:\\n\", ratings_inserted[:5])\n"
   ]
  },
  {
   "cell_type": "markdown",
   "id": "ea691b20-4cc1-49b6-90cd-f2a36475b661",
   "metadata": {},
   "source": [
    "## **🔢 Sorting using _.sort()_**\n"
   ]
  },
  {
   "cell_type": "code",
   "execution_count": 114,
   "id": "9a673f99-510d-4298-a677-fda532b69d62",
   "metadata": {},
   "outputs": [
    {
     "name": "stdout",
     "output_type": "stream",
     "text": [
      "Sorted Ratings:\n",
      " [1.  1.  1.1 ... 9.2 9.3 9.3]\n"
     ]
    }
   ],
   "source": [
    "ratings_sorted = np.sort(ratings)\n",
    "print(\"Sorted Ratings:\\n\", ratings_sorted)\n",
    "\n"
   ]
  },
  {
   "cell_type": "markdown",
   "id": "d4ab161f-3b8c-4a6f-b8ce-7bdbd88665ba",
   "metadata": {},
   "source": [
    "## **❌ Removing / Deleting**\n"
   ]
  },
  {
   "cell_type": "code",
   "execution_count": 117,
   "id": "d18815c2-a7c8-4299-ba0f-4adb82de4656",
   "metadata": {},
   "outputs": [
    {
     "name": "stdout",
     "output_type": "stream",
     "text": [
      "After Deleting Index 0:\n",
      " [9.  9.  8.8 8.8 8.8]\n"
     ]
    }
   ],
   "source": [
    "\n",
    "ratings_deleted = np.delete(ratings, 0)\n",
    "print(\"After Deleting Index 0:\\n\", ratings_deleted[:5])\n"
   ]
  },
  {
   "cell_type": "markdown",
   "id": "adacb835-cb71-4130-b959-9a5a63c610a6",
   "metadata": {},
   "source": [
    "## **🔗 Combining / Concatenating**"
   ]
  },
  {
   "cell_type": "code",
   "execution_count": 122,
   "id": "0ed6e35e-3ea3-437d-9db0-06b6c8fe0697",
   "metadata": {},
   "outputs": [
    {
     "name": "stdout",
     "output_type": "stream",
     "text": [
      "Combined Ratings + Runtime (first 10):\n",
      " [9.3 9.  9.  8.8 8.8 8.8 8.7 8.7 8.6 8.6]\n"
     ]
    }
   ],
   "source": [
    "runtime = numeric_data['Runtime(Mins)'].values\n",
    "combined = np.concatenate((ratings, runtime))\n",
    "print(\"Combined Ratings + Runtime (first 10):\\n\", combined[:10])\n"
   ]
  },
  {
   "cell_type": "markdown",
   "id": "526def82-3e11-4212-92c0-9f7086f00248",
   "metadata": {},
   "source": [
    "\n",
    "### **✂️ Splitting**"
   ]
  },
  {
   "cell_type": "code",
   "execution_count": 129,
   "id": "20dc3fd3-8efe-4e87-a281-bdac2b9db045",
   "metadata": {},
   "outputs": [
    {
     "name": "stdout",
     "output_type": "stream",
     "text": [
      "Splitted Data (Part 1):\n",
      " 0       9.3\n",
      "1       9.0\n",
      "2       9.0\n",
      "3       8.8\n",
      "4       8.8\n",
      "       ... \n",
      "1849    6.8\n",
      "1850    6.8\n",
      "1851    6.8\n",
      "1852    6.8\n",
      "1853    6.8\n",
      "Name: Rating, Length: 1854, dtype: float64\n"
     ]
    },
    {
     "name": "stderr",
     "output_type": "stream",
     "text": [
      "C:\\Users\\fine\\anaconda3\\Lib\\site-packages\\numpy\\core\\fromnumeric.py:59: FutureWarning: 'Series.swapaxes' is deprecated and will be removed in a future version. Please use 'Series.transpose' instead.\n",
      "  return bound(*args, **kwds)\n"
     ]
    }
   ],
   "source": [
    "split_data = np.array_split(ratings, 3)\n",
    "print(\"Splitted Data (Part 1):\\n\", split_data[0])\n",
    "\n"
   ]
  },
  {
   "cell_type": "markdown",
   "id": "0a24c216-0278-45f1-bd6d-85d43b5b7840",
   "metadata": {},
   "source": [
    "## **🎯 Indexing and Logical Selection**"
   ]
  },
  {
   "cell_type": "code",
   "execution_count": 132,
   "id": "f49f74d5-04db-4a3c-ac2e-b3422b7e99c2",
   "metadata": {},
   "outputs": [
    {
     "name": "stdout",
     "output_type": "stream",
     "text": [
      "High Ratings > 8.5:\n",
      " 0       9.3\n",
      "1       9.0\n",
      "2       9.0\n",
      "3       8.8\n",
      "4       8.8\n",
      "5       8.8\n",
      "6       8.7\n",
      "7       8.7\n",
      "8       8.6\n",
      "9       8.6\n",
      "10      8.6\n",
      "11      8.6\n",
      "1550    9.0\n",
      "1551    8.9\n",
      "1552    8.7\n",
      "1929    8.6\n",
      "2186    8.8\n",
      "2253    9.2\n",
      "2254    9.0\n",
      "2255    9.0\n",
      "2256    9.0\n",
      "2257    8.9\n",
      "2258    8.9\n",
      "2259    8.6\n",
      "2260    8.6\n",
      "2261    8.6\n",
      "2262    8.6\n",
      "3448    9.3\n",
      "3449    9.2\n",
      "3450    8.9\n",
      "3451    8.8\n",
      "3452    8.8\n",
      "3453    8.7\n",
      "3454    8.7\n",
      "3455    8.6\n",
      "3456    8.6\n",
      "3457    8.6\n",
      "3458    8.6\n",
      "Name: Rating, dtype: float64\n"
     ]
    }
   ],
   "source": [
    "high_ratings = ratings[ratings > 8.5]\n",
    "print(\"High Ratings > 8.5:\\n\", high_ratings)\n"
   ]
  },
  {
   "cell_type": "markdown",
   "id": "ffda9daf-996f-4179-9cfe-c05f6ac66158",
   "metadata": {},
   "source": [
    "## **📤 Broadcasting**"
   ]
  },
  {
   "cell_type": "code",
   "execution_count": 135,
   "id": "96ddd20d-98ce-4e75-b24f-a29b51325c28",
   "metadata": {},
   "outputs": [
    {
     "name": "stdout",
     "output_type": "stream",
     "text": [
      "Ratings + 1 (Broadcasted):\n",
      " 0    10.3\n",
      "1    10.0\n",
      "2    10.0\n",
      "3     9.8\n",
      "4     9.8\n",
      "Name: Rating, dtype: float64\n"
     ]
    }
   ],
   "source": [
    "ratings_plus_one = ratings + 1\n",
    "print(\"Ratings + 1 (Broadcasted):\\n\", ratings_plus_one[:5])\n"
   ]
  },
  {
   "cell_type": "markdown",
   "id": "ca9b2456-8703-47eb-a3aa-44fdd9490507",
   "metadata": {},
   "source": [
    "## **🔄 Type Casting**"
   ]
  },
  {
   "cell_type": "code",
   "execution_count": 138,
   "id": "10610c21-46ac-41e5-813c-1a90099fe28e",
   "metadata": {},
   "outputs": [
    {
     "name": "stdout",
     "output_type": "stream",
     "text": [
      "Ratings as Integers:\n",
      " 0    9\n",
      "1    9\n",
      "2    9\n",
      "3    8\n",
      "4    8\n",
      "Name: Rating, dtype: int32\n"
     ]
    }
   ],
   "source": [
    "ratings_int = ratings.astype(int)\n",
    "print(\"Ratings as Integers:\\n\", ratings_int[:5])\n"
   ]
  },
  {
   "cell_type": "markdown",
   "id": "1d5db85b-defd-45ca-90cf-9cd6bf264c5e",
   "metadata": {},
   "source": [
    "## **➕➖ Arithmetic Operations**"
   ]
  },
  {
   "cell_type": "code",
   "execution_count": 141,
   "id": "9d8a82ed-d7cd-4669-9713-980f38bf6021",
   "metadata": {},
   "outputs": [
    {
     "name": "stdout",
     "output_type": "stream",
     "text": [
      "Add +1:\n",
      " 0    10.3\n",
      "1    10.0\n",
      "2    10.0\n",
      "3     9.8\n",
      "4     9.8\n",
      "Name: Rating, dtype: float64\n",
      "Subtract -1:\n",
      " 0    8.3\n",
      "1    8.0\n",
      "2    8.0\n",
      "3    7.8\n",
      "4    7.8\n",
      "Name: Rating, dtype: float64\n",
      "Multiply *2:\n",
      " 0    18.6\n",
      "1    18.0\n",
      "2    18.0\n",
      "3    17.6\n",
      "4    17.6\n",
      "Name: Rating, dtype: float64\n",
      "Divide /2:\n",
      " 0    4.65\n",
      "1    4.50\n",
      "2    4.50\n",
      "3    4.40\n",
      "4    4.40\n",
      "Name: Rating, dtype: float64\n",
      "Exponent **2:\n",
      " 0    86.49\n",
      "1    81.00\n",
      "2    81.00\n",
      "3    77.44\n",
      "4    77.44\n",
      "Name: Rating, dtype: float64\n"
     ]
    }
   ],
   "source": [
    "add = ratings + 1\n",
    "subtract = ratings - 1\n",
    "multiply = ratings * 2\n",
    "divide = ratings / 2\n",
    "exponent = ratings ** 2\n",
    "\n",
    "print(\"Add +1:\\n\", add[:5])\n",
    "print(\"Subtract -1:\\n\", subtract[:5])\n",
    "print(\"Multiply *2:\\n\", multiply[:5])\n",
    "print(\"Divide /2:\\n\", divide[:5])\n",
    "print(\"Exponent **2:\\n\", exponent[:5])\n"
   ]
  },
  {
   "cell_type": "markdown",
   "id": "7c03b548-3252-412c-99c8-28dc4d0ee209",
   "metadata": {},
   "source": [
    "## **🧠 Universal Array Functions**"
   ]
  },
  {
   "cell_type": "code",
   "execution_count": 144,
   "id": "b2c963f7-5925-466a-918e-31f4beb865d1",
   "metadata": {},
   "outputs": [
    {
     "name": "stdout",
     "output_type": "stream",
     "text": [
      "Square Root:\n",
      " 0    3.049590\n",
      "1    3.000000\n",
      "2    3.000000\n",
      "3    2.966479\n",
      "4    2.966479\n",
      "Name: Rating, dtype: float64\n",
      "Exponential:\n",
      " 0    10938.019208\n",
      "1     8103.083928\n",
      "2     8103.083928\n",
      "3     6634.244006\n",
      "4     6634.244006\n",
      "Name: Rating, dtype: float64\n",
      "Max Value in Ratings:\n",
      " 9.3\n",
      "Sin Values:\n",
      " 0    0.124454\n",
      "1    0.412118\n",
      "2    0.412118\n",
      "3    0.584917\n",
      "4    0.584917\n",
      "Name: Rating, dtype: float64\n"
     ]
    }
   ],
   "source": [
    "square_root = np.sqrt(ratings)\n",
    "exponential = np.exp(ratings)\n",
    "max_value = np.max(ratings)\n",
    "sin_values = np.sin(ratings)\n",
    "\n",
    "print(\"Square Root:\\n\", square_root[:5])\n",
    "print(\"Exponential:\\n\", exponential[:5])\n",
    "print(\"Max Value in Ratings:\\n\", max_value)\n",
    "print(\"Sin Values:\\n\", sin_values[:5])\n"
   ]
  },
  {
   "cell_type": "markdown",
   "id": "16c208f7-07c2-4943-91ac-befae1854db0",
   "metadata": {},
   "source": [
    "# **📊 Final Summary**"
   ]
  },
  {
   "cell_type": "code",
   "execution_count": 147,
   "id": "a747c43b-6062-4a0b-b884-cce136514ea1",
   "metadata": {},
   "outputs": [
    {
     "name": "stdout",
     "output_type": "stream",
     "text": [
      "Shape of Numeric Data: (5562, 3)\n",
      "Data Types:\n",
      " Year               int64\n",
      "Rating           float64\n",
      "Runtime(Mins)      int64\n",
      "dtype: object\n",
      "Max per Column:\n",
      " Year             2022.0\n",
      "Rating              9.3\n",
      "Runtime(Mins)     321.0\n",
      "dtype: float64\n",
      "Min per Column:\n",
      " Year             1920.0\n",
      "Rating              1.0\n",
      "Runtime(Mins)      45.0\n",
      "dtype: float64\n",
      "Index of Max Rating:\n",
      " 0\n"
     ]
    }
   ],
   "source": [
    "print(\"Shape of Numeric Data:\", numeric_data.shape)\n",
    "print(\"Data Types:\\n\", numeric_data.dtypes)\n",
    "print(\"Max per Column:\\n\", numeric_data.max())\n",
    "print(\"Min per Column:\\n\", numeric_data.min())\n",
    "print(\"Index of Max Rating:\\n\", data['Rating'].idxmax())\n"
   ]
  },
  {
   "cell_type": "code",
   "execution_count": null,
   "id": "2b06c696-4b80-4765-9017-733eccb7e153",
   "metadata": {},
   "outputs": [],
   "source": []
  }
 ],
 "metadata": {
  "kernelspec": {
   "display_name": "Python [conda env:base] *",
   "language": "python",
   "name": "conda-base-py"
  },
  "language_info": {
   "codemirror_mode": {
    "name": "ipython",
    "version": 3
   },
   "file_extension": ".py",
   "mimetype": "text/x-python",
   "name": "python",
   "nbconvert_exporter": "python",
   "pygments_lexer": "ipython3",
   "version": "3.12.7"
  }
 },
 "nbformat": 4,
 "nbformat_minor": 5
}
